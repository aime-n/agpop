{
 "cells": [
  {
   "cell_type": "code",
   "execution_count": 6,
   "metadata": {},
   "outputs": [
    {
     "name": "stderr",
     "output_type": "stream",
     "text": [
      "WARNING: Ignoring invalid distribution -cipy (c:\\users\\anbrg\\appdata\\local\\programs\\python\\python310\\lib\\site-packages)\n",
      "WARNING: Requirement file [requirements.txt] contains math, but package 'math' is not installed\n",
      "WARNING: Requirement file [requirements.txt] contains statistics, but package 'statistics' is not installed\n"
     ]
    }
   ],
   "source": [
    "# !pip freeze --requirement requirements.txt > requirements-freeze.txt\n",
    "# !pip install -r requirements.txt"
   ]
  },
  {
   "cell_type": "code",
   "execution_count": 26,
   "metadata": {},
   "outputs": [],
   "source": [
    "# importar bibliotecas de ciencias de dados\n",
    "import pandas as pd\n",
    "import numpy as np\n",
    "import math\n",
    "import statistics\n",
    "from scipy import stats\n",
    "from statsmodels.stats.proportion import proportion_confint\n",
    "SEED = 42"
   ]
  },
  {
   "cell_type": "code",
   "execution_count": 8,
   "metadata": {},
   "outputs": [
    {
     "data": {
      "text/html": [
       "<div>\n",
       "<style scoped>\n",
       "    .dataframe tbody tr th:only-of-type {\n",
       "        vertical-align: middle;\n",
       "    }\n",
       "\n",
       "    .dataframe tbody tr th {\n",
       "        vertical-align: top;\n",
       "    }\n",
       "\n",
       "    .dataframe thead th {\n",
       "        text-align: right;\n",
       "    }\n",
       "</style>\n",
       "<table border=\"1\" class=\"dataframe\">\n",
       "  <thead>\n",
       "    <tr style=\"text-align: right;\">\n",
       "      <th></th>\n",
       "      <th>county</th>\n",
       "      <th>state</th>\n",
       "      <th>acres92</th>\n",
       "      <th>acres87</th>\n",
       "      <th>acres82</th>\n",
       "      <th>farms92</th>\n",
       "      <th>farms87</th>\n",
       "      <th>farms82</th>\n",
       "      <th>largef92</th>\n",
       "      <th>largef87</th>\n",
       "      <th>largef82</th>\n",
       "      <th>smallf92</th>\n",
       "      <th>smallf87</th>\n",
       "      <th>smallf82</th>\n",
       "      <th>region</th>\n",
       "    </tr>\n",
       "  </thead>\n",
       "  <tbody>\n",
       "    <tr>\n",
       "      <th>1</th>\n",
       "      <td>ALEUTIAN ISLANDS AREA</td>\n",
       "      <td>AK</td>\n",
       "      <td>683533.0</td>\n",
       "      <td>726596.0</td>\n",
       "      <td>764514.0</td>\n",
       "      <td>26</td>\n",
       "      <td>27</td>\n",
       "      <td>28</td>\n",
       "      <td>14</td>\n",
       "      <td>16</td>\n",
       "      <td>20</td>\n",
       "      <td>6</td>\n",
       "      <td>4</td>\n",
       "      <td>1</td>\n",
       "      <td>W</td>\n",
       "    </tr>\n",
       "    <tr>\n",
       "      <th>2</th>\n",
       "      <td>ANCHORAGE AREA</td>\n",
       "      <td>AK</td>\n",
       "      <td>47146.0</td>\n",
       "      <td>59297.0</td>\n",
       "      <td>256709.0</td>\n",
       "      <td>217</td>\n",
       "      <td>245</td>\n",
       "      <td>223</td>\n",
       "      <td>9</td>\n",
       "      <td>10</td>\n",
       "      <td>11</td>\n",
       "      <td>41</td>\n",
       "      <td>52</td>\n",
       "      <td>38</td>\n",
       "      <td>W</td>\n",
       "    </tr>\n",
       "    <tr>\n",
       "      <th>3</th>\n",
       "      <td>FAIRBANKS AREA</td>\n",
       "      <td>AK</td>\n",
       "      <td>141338.0</td>\n",
       "      <td>154913.0</td>\n",
       "      <td>204568.0</td>\n",
       "      <td>168</td>\n",
       "      <td>175</td>\n",
       "      <td>170</td>\n",
       "      <td>25</td>\n",
       "      <td>28</td>\n",
       "      <td>21</td>\n",
       "      <td>12</td>\n",
       "      <td>18</td>\n",
       "      <td>25</td>\n",
       "      <td>W</td>\n",
       "    </tr>\n",
       "    <tr>\n",
       "      <th>4</th>\n",
       "      <td>JUNEAU AREA</td>\n",
       "      <td>AK</td>\n",
       "      <td>210.0</td>\n",
       "      <td>214.0</td>\n",
       "      <td>127.0</td>\n",
       "      <td>8</td>\n",
       "      <td>8</td>\n",
       "      <td>12</td>\n",
       "      <td>0</td>\n",
       "      <td>0</td>\n",
       "      <td>0</td>\n",
       "      <td>5</td>\n",
       "      <td>4</td>\n",
       "      <td>8</td>\n",
       "      <td>W</td>\n",
       "    </tr>\n",
       "    <tr>\n",
       "      <th>5</th>\n",
       "      <td>KENAI PENINSULA AREA</td>\n",
       "      <td>AK</td>\n",
       "      <td>50810.0</td>\n",
       "      <td>85712.0</td>\n",
       "      <td>98035.0</td>\n",
       "      <td>93</td>\n",
       "      <td>119</td>\n",
       "      <td>137</td>\n",
       "      <td>9</td>\n",
       "      <td>18</td>\n",
       "      <td>17</td>\n",
       "      <td>12</td>\n",
       "      <td>18</td>\n",
       "      <td>19</td>\n",
       "      <td>W</td>\n",
       "    </tr>\n",
       "  </tbody>\n",
       "</table>\n",
       "</div>"
      ],
      "text/plain": [
       "                  county state   acres92   acres87   acres82  farms92  \\\n",
       "1  ALEUTIAN ISLANDS AREA    AK  683533.0  726596.0  764514.0       26   \n",
       "2         ANCHORAGE AREA    AK   47146.0   59297.0  256709.0      217   \n",
       "3         FAIRBANKS AREA    AK  141338.0  154913.0  204568.0      168   \n",
       "4            JUNEAU AREA    AK     210.0     214.0     127.0        8   \n",
       "5   KENAI PENINSULA AREA    AK   50810.0   85712.0   98035.0       93   \n",
       "\n",
       "   farms87  farms82  largef92  largef87  largef82  smallf92  smallf87  \\\n",
       "1       27       28        14        16        20         6         4   \n",
       "2      245      223         9        10        11        41        52   \n",
       "3      175      170        25        28        21        12        18   \n",
       "4        8       12         0         0         0         5         4   \n",
       "5      119      137         9        18        17        12        18   \n",
       "\n",
       "   smallf82 region  \n",
       "1         1      W  \n",
       "2        38      W  \n",
       "3        25      W  \n",
       "4         8      W  \n",
       "5        19      W  "
      ]
     },
     "execution_count": 8,
     "metadata": {},
     "output_type": "execute_result"
    }
   ],
   "source": [
    "# ler o arquivo csv agpop\n",
    "df = pd.read_csv('agpop.csv', sep=',', index_col='Unnamed: 0')\n",
    "df.head()"
   ]
  },
  {
   "attachments": {},
   "cell_type": "markdown",
   "metadata": {},
   "source": [
    "Informações dos anos de 1982, 1987 e 1992 sobre:\n",
    "- acres\n",
    "- número de fazendas\n",
    "- fazendas pequenas\n",
    "- fazendas grandes\n",
    "- região\n",
    "\n",
    "Separada por cidade e estado."
   ]
  },
  {
   "attachments": {},
   "cell_type": "markdown",
   "metadata": {},
   "source": [
    "Format\n",
    "This data frame contains the following columns:\n",
    "\n",
    "county:\n",
    "county name (character variable)\n",
    "\n",
    "state:\n",
    "state abbreviation (character variable)\n",
    "\n",
    "acres92:\n",
    "number of acres devoted to farms, 1992\n",
    "\n",
    "acres87:\n",
    "number of acres devoted to farms, 1987\n",
    "\n",
    "acres82:\n",
    "number of acres devoted to farms, 1982\n",
    "\n",
    "farms92:\n",
    "number of farms, 1992\n",
    "\n",
    "farms87:\n",
    "number of farms, 1987\n",
    "\n",
    "farms82:\n",
    "number of farms, 1982\n",
    "\n",
    "largef92:\n",
    "number of farms with 1,000 acres or more, 1992\n",
    "\n",
    "largef87:\n",
    "number of farms with 1,000 acres or more, 1987\n",
    "\n",
    "largef82:\n",
    "number of farms with 1,000 acres or more, 1982\n",
    "\n",
    "smallf92:\n",
    "number of farms with 9 acres or fewer, 1992\n",
    "\n",
    "smallf87:\n",
    "number of farms with 9 acres or fewer, 1987\n",
    "\n",
    "smallf82:\n",
    "number of farms with 9 acres or fewer, 1982\n",
    "\n",
    "region:\n",
    "S = south; W = west; NC = north central; NE = northeast"
   ]
  },
  {
   "attachments": {},
   "cell_type": "markdown",
   "metadata": {},
   "source": [
    "## Análise e Tratamento"
   ]
  },
  {
   "cell_type": "code",
   "execution_count": 9,
   "metadata": {},
   "outputs": [],
   "source": [
    "def print_is_duplicated(df):\n",
    "    \"\"\"\n",
    "    Função que verifica se os dados estão duplicados. Se sim,\n",
    "    mostra a quantidade de dados duplicados.\n",
    "    \"\"\"\n",
    "    confirmation = df.duplicated().values.any()\n",
    "    print(f\"Existem valores duplicados? {confirmation}\")\n",
    "    if confirmation:\n",
    "        print(f\"Existem no total {df.duplicated().sum()} linhas duplicadas.\")\n",
    "    else:\n",
    "        print('Não existem linhas duplicadas.')\n",
    "\n",
    "\n",
    "def print_is_na(df):\n",
    "    \"\"\"\n",
    "    Função que verifica se os dados estão duplicados. Se sim,\n",
    "    retorna um dataframe com a quantidade de dados duplicados\n",
    "    em valor absoluto e a porcentagem relativa.\n",
    "    \"\"\"\n",
    "    confirmation = df.isnull().values.any()\n",
    "    print(f\"Existem valores nulos? {confirmation}\\n\")\n",
    "    if confirmation:\n",
    "        na = pd.concat([df.isna().sum(), round((df.isna().sum()/df.shape[0])*100, 2)], axis = 1).reset_index()\n",
    "        na.columns = [\"coluna\", \"absoluto\", \"porcentagem\"]\n",
    "#         print(na )\n",
    "        return na\n",
    "    else:\n",
    "        print('Não existem valores ausentes.')"
   ]
  },
  {
   "cell_type": "code",
   "execution_count": 10,
   "metadata": {},
   "outputs": [
    {
     "name": "stdout",
     "output_type": "stream",
     "text": [
      "Existem valores duplicados? False\n",
      "Não existem linhas duplicadas.\n"
     ]
    }
   ],
   "source": [
    "# ver se existem valores duplicados\n",
    "print_is_duplicated(df)"
   ]
  },
  {
   "cell_type": "code",
   "execution_count": 11,
   "metadata": {},
   "outputs": [
    {
     "name": "stdout",
     "output_type": "stream",
     "text": [
      "Existem valores nulos? True\n",
      "\n"
     ]
    },
    {
     "data": {
      "text/html": [
       "<div>\n",
       "<style scoped>\n",
       "    .dataframe tbody tr th:only-of-type {\n",
       "        vertical-align: middle;\n",
       "    }\n",
       "\n",
       "    .dataframe tbody tr th {\n",
       "        vertical-align: top;\n",
       "    }\n",
       "\n",
       "    .dataframe thead th {\n",
       "        text-align: right;\n",
       "    }\n",
       "</style>\n",
       "<table border=\"1\" class=\"dataframe\">\n",
       "  <thead>\n",
       "    <tr style=\"text-align: right;\">\n",
       "      <th></th>\n",
       "      <th>coluna</th>\n",
       "      <th>absoluto</th>\n",
       "      <th>porcentagem</th>\n",
       "    </tr>\n",
       "  </thead>\n",
       "  <tbody>\n",
       "    <tr>\n",
       "      <th>0</th>\n",
       "      <td>county</td>\n",
       "      <td>0</td>\n",
       "      <td>0.00</td>\n",
       "    </tr>\n",
       "    <tr>\n",
       "      <th>1</th>\n",
       "      <td>state</td>\n",
       "      <td>0</td>\n",
       "      <td>0.00</td>\n",
       "    </tr>\n",
       "    <tr>\n",
       "      <th>2</th>\n",
       "      <td>acres92</td>\n",
       "      <td>19</td>\n",
       "      <td>0.62</td>\n",
       "    </tr>\n",
       "    <tr>\n",
       "      <th>3</th>\n",
       "      <td>acres87</td>\n",
       "      <td>23</td>\n",
       "      <td>0.75</td>\n",
       "    </tr>\n",
       "    <tr>\n",
       "      <th>4</th>\n",
       "      <td>acres82</td>\n",
       "      <td>17</td>\n",
       "      <td>0.55</td>\n",
       "    </tr>\n",
       "    <tr>\n",
       "      <th>5</th>\n",
       "      <td>farms92</td>\n",
       "      <td>0</td>\n",
       "      <td>0.00</td>\n",
       "    </tr>\n",
       "    <tr>\n",
       "      <th>6</th>\n",
       "      <td>farms87</td>\n",
       "      <td>0</td>\n",
       "      <td>0.00</td>\n",
       "    </tr>\n",
       "    <tr>\n",
       "      <th>7</th>\n",
       "      <td>farms82</td>\n",
       "      <td>0</td>\n",
       "      <td>0.00</td>\n",
       "    </tr>\n",
       "    <tr>\n",
       "      <th>8</th>\n",
       "      <td>largef92</td>\n",
       "      <td>0</td>\n",
       "      <td>0.00</td>\n",
       "    </tr>\n",
       "    <tr>\n",
       "      <th>9</th>\n",
       "      <td>largef87</td>\n",
       "      <td>0</td>\n",
       "      <td>0.00</td>\n",
       "    </tr>\n",
       "    <tr>\n",
       "      <th>10</th>\n",
       "      <td>largef82</td>\n",
       "      <td>0</td>\n",
       "      <td>0.00</td>\n",
       "    </tr>\n",
       "    <tr>\n",
       "      <th>11</th>\n",
       "      <td>smallf92</td>\n",
       "      <td>0</td>\n",
       "      <td>0.00</td>\n",
       "    </tr>\n",
       "    <tr>\n",
       "      <th>12</th>\n",
       "      <td>smallf87</td>\n",
       "      <td>0</td>\n",
       "      <td>0.00</td>\n",
       "    </tr>\n",
       "    <tr>\n",
       "      <th>13</th>\n",
       "      <td>smallf82</td>\n",
       "      <td>0</td>\n",
       "      <td>0.00</td>\n",
       "    </tr>\n",
       "    <tr>\n",
       "      <th>14</th>\n",
       "      <td>region</td>\n",
       "      <td>0</td>\n",
       "      <td>0.00</td>\n",
       "    </tr>\n",
       "  </tbody>\n",
       "</table>\n",
       "</div>"
      ],
      "text/plain": [
       "      coluna  absoluto  porcentagem\n",
       "0     county         0         0.00\n",
       "1      state         0         0.00\n",
       "2    acres92        19         0.62\n",
       "3    acres87        23         0.75\n",
       "4    acres82        17         0.55\n",
       "5    farms92         0         0.00\n",
       "6    farms87         0         0.00\n",
       "7    farms82         0         0.00\n",
       "8   largef92         0         0.00\n",
       "9   largef87         0         0.00\n",
       "10  largef82         0         0.00\n",
       "11  smallf92         0         0.00\n",
       "12  smallf87         0         0.00\n",
       "13  smallf82         0         0.00\n",
       "14    region         0         0.00"
      ]
     },
     "execution_count": 11,
     "metadata": {},
     "output_type": "execute_result"
    }
   ],
   "source": [
    "# ver se existem valores nulos\n",
    "df_na = print_is_na(df)\n",
    "df_na"
   ]
  },
  {
   "cell_type": "code",
   "execution_count": 12,
   "metadata": {},
   "outputs": [],
   "source": [
    "# pegar df_na onde porcentagem é maior que 0\n",
    "df_na = df_na[df_na['porcentagem'] > 0]"
   ]
  },
  {
   "cell_type": "code",
   "execution_count": 13,
   "metadata": {},
   "outputs": [
    {
     "data": {
      "text/html": [
       "<div>\n",
       "<style scoped>\n",
       "    .dataframe tbody tr th:only-of-type {\n",
       "        vertical-align: middle;\n",
       "    }\n",
       "\n",
       "    .dataframe tbody tr th {\n",
       "        vertical-align: top;\n",
       "    }\n",
       "\n",
       "    .dataframe thead th {\n",
       "        text-align: right;\n",
       "    }\n",
       "</style>\n",
       "<table border=\"1\" class=\"dataframe\">\n",
       "  <thead>\n",
       "    <tr style=\"text-align: right;\">\n",
       "      <th></th>\n",
       "      <th>columns</th>\n",
       "      <th>normalidade</th>\n",
       "    </tr>\n",
       "  </thead>\n",
       "  <tbody>\n",
       "    <tr>\n",
       "      <th>2</th>\n",
       "      <td>acres92</td>\n",
       "      <td>Normal</td>\n",
       "    </tr>\n",
       "    <tr>\n",
       "      <th>3</th>\n",
       "      <td>acres87</td>\n",
       "      <td>Normal</td>\n",
       "    </tr>\n",
       "    <tr>\n",
       "      <th>4</th>\n",
       "      <td>acres82</td>\n",
       "      <td>Normal</td>\n",
       "    </tr>\n",
       "  </tbody>\n",
       "</table>\n",
       "</div>"
      ],
      "text/plain": [
       "   columns normalidade\n",
       "2  acres92      Normal\n",
       "3  acres87      Normal\n",
       "4  acres82      Normal"
      ]
     },
     "execution_count": 13,
     "metadata": {},
     "output_type": "execute_result"
    }
   ],
   "source": [
    "from scipy.stats import shapiro\n",
    "\n",
    "df_normal = pd.DataFrame({\n",
    "    'columns': df_na['coluna']\n",
    "})\n",
    "\n",
    "normal_list = []\n",
    "for coluna in df_na['coluna']:\n",
    "    try:\n",
    "        _, p_value = shapiro(df[coluna])\n",
    "        normal_list.append('Normal' if p_value > 0.05 else 'Não normal')\n",
    "    except:\n",
    "        normal_list.append('erro')\n",
    "        \n",
    "df_normal['normalidade'] = normal_list\n",
    "df_normal"
   ]
  },
  {
   "cell_type": "code",
   "execution_count": 14,
   "metadata": {},
   "outputs": [],
   "source": [
    "# nome das colunas que passaram no teste da normalidade\n",
    "list_col = df_normal.query(\"normalidade == 'Normal'\")['columns'].unique().tolist()\n",
    "\n",
    "# Imputação com a mediana para variáveis com alta proporção de dados ausentes\n",
    "for col in list_col:\n",
    "    df[col].fillna(df[col].median(), inplace=True)"
   ]
  },
  {
   "attachments": {},
   "cell_type": "markdown",
   "metadata": {},
   "source": [
    "# Amostragem"
   ]
  },
  {
   "attachments": {},
   "cell_type": "markdown",
   "metadata": {},
   "source": [
    "## Amostragem Aleatória Simples sem reposição"
   ]
  },
  {
   "attachments": {},
   "cell_type": "markdown",
   "metadata": {},
   "source": [
    "Estimar: <br>\n",
    "(1) A area total dedicada a fazendas em 1992,<br>\n",
    "(2) A area média dedicada a fazendas em 1992,<br>\n",
    "(3) A proporção de condados com menos de 250.000 acres em fazendas em 1992,<br>\n",
    "(4) O total de condados com menos de 250.000 acres em fazendas em 1992.<br>"
   ]
  },
  {
   "attachments": {},
   "cell_type": "markdown",
   "metadata": {},
   "source": [
    "Para cada tipo de estimação, obter:<br>\n",
    "(1) Obtenha as estimativas, erro padrão e intervalo da confiança para cada um dos planos amostrais;<br>\n",
    "(2) Faça uma análise comparativa dos resultados no item anterior, em termos do viés, erro quadrático médio e coeficiente de variação<br>\n",
    "(3) Considere uma estimativa da razão e de regressão da  ́area total (media) dedicada a fazendas em 1992, considerando como variável auxiliar a ́area total dedicada a fazendas em 1982 (acres82) e a área total dedicada a fazendas em 1987 (acres87).<br>\n",
    "(4) Compare os resultados do item anterior em termos de precisão e variabilidade relativa."
   ]
  },
  {
   "cell_type": "code",
   "execution_count": 15,
   "metadata": {},
   "outputs": [],
   "source": [
    "def calcular_erro_padrao(amostra):\n",
    "    # Tamanho da amostra (n)\n",
    "    n = len(amostra)\n",
    "\n",
    "    # Variância amostral\n",
    "    variancia_amostral = statistics.variance(amostra)\n",
    "\n",
    "    # Desvio padrão da amostra (s)\n",
    "    desvio_padrao_amostral = math.sqrt(variancia_amostral)\n",
    "\n",
    "    # Erro padrão (SE)\n",
    "    erro_padrao = desvio_padrao_amostral / math.sqrt(n)\n",
    "\n",
    "    return erro_padrao"
   ]
  },
  {
   "cell_type": "code",
   "execution_count": 16,
   "metadata": {},
   "outputs": [],
   "source": [
    "def calcular_intervalo_confianca(amostra, nivel_confianca=0.95):\n",
    "    # Remover valores ausentes (NaN) da amostra\n",
    "    amostra = [x for x in amostra if not math.isnan(x)]\n",
    "\n",
    "    # Tamanho da amostra (n)\n",
    "    n = len(amostra)\n",
    "\n",
    "    # Média amostral (estimativa da área média das fazendas)\n",
    "    media_amostral = sum(amostra) / n\n",
    "\n",
    "    # Desvio padrão da amostra\n",
    "    desvio_padrao_amostral = statistics.stdev(amostra)\n",
    "\n",
    "    # Graus de liberdade\n",
    "    graus_liberdade = n - 1\n",
    "\n",
    "    # Valor crítico t para o nível de confiança desejado\n",
    "    valor_critico_t = stats.t.ppf((1 + nivel_confianca) / 2, graus_liberdade)\n",
    "\n",
    "    # Erro padrão (SE)\n",
    "    erro_padrao = desvio_padrao_amostral / math.sqrt(n)\n",
    "\n",
    "    # Intervalo de confiança\n",
    "    limite_inferior = media_amostral - valor_critico_t * erro_padrao\n",
    "    limite_superior = media_amostral + valor_critico_t * erro_padrao\n",
    "\n",
    "    return limite_inferior, limite_superior"
   ]
  },
  {
   "cell_type": "markdown",
   "metadata": {},
   "source": [
    "#### (1) A area total dedicada a fazendas em 1992,<br>"
   ]
  },
  {
   "cell_type": "code",
   "execution_count": 17,
   "metadata": {},
   "outputs": [],
   "source": [
    "# amostrar 500 linhas aleatórias do dataframe\n",
    "df_aas = df.sample(n=500, random_state=SEED)"
   ]
  },
  {
   "cell_type": "markdown",
   "metadata": {},
   "source": [
    "Com relação a $AAS_s$, um estimador não viciado do total populacional é\n",
    "$$T(S) = \\frac{N}{n}t(s)$$"
   ]
  },
  {
   "cell_type": "code",
   "execution_count": 18,
   "metadata": {},
   "outputs": [
    {
     "name": "stdout",
     "output_type": "stream",
     "text": [
      "Estimação da área total em 1992: 1026864895.43 acres\n",
      "Erro padrão da estimativa: 21534.51 acres\n",
      "Intervalo de confiança: 291304.85 a 375923.81 acres\n"
     ]
    }
   ],
   "source": [
    "# estimar área total dedicada a fazendas em 1992\n",
    "area_total = df_aas['acres92'].sum()\n",
    "area_total_estimada = area_total*3078/500\n",
    "print(f'Estimação da área total em 1992: {area_total_estimada:.2f} acres')\n",
    "\n",
    "# estimar erro padrão da área total\n",
    "erro_padrao = calcular_erro_padrao(df_aas['acres92'])\n",
    "print(f'Erro padrão da estimativa: {erro_padrao:.2f} acres')\n",
    "\n",
    "# estimar intervalo de confiança da área total\n",
    "limite_inferior, limite_superior = calcular_intervalo_confianca(df_aas['acres92'])\n",
    "print(f'Intervalo de confiança: {limite_inferior:.2f} a {limite_superior:.2f} acres')"
   ]
  },
  {
   "cell_type": "markdown",
   "metadata": {},
   "source": [
    "Para $AAA_S$, a média amostral\n",
    "$$\\bar{y} = \\frac{1}{n}\\sum_{i \\in s}^nY_i = \\frac{t(s)}{n}$$\n",
    "é um estimador não viciado da média populacional"
   ]
  },
  {
   "attachments": {},
   "cell_type": "markdown",
   "metadata": {},
   "source": [
    "#### (2) A area média dedicada a fazendas em 1992,<br>"
   ]
  },
  {
   "cell_type": "code",
   "execution_count": 19,
   "metadata": {},
   "outputs": [
    {
     "name": "stdout",
     "output_type": "stream",
     "text": [
      "Estimação da área média em 1992: 333614.33 acres\n",
      "Erro padrão da estimativa: 405.28 acres\n",
      "Intervalo de confiança: 543.28 a 2135.80 acres\n"
     ]
    }
   ],
   "source": [
    "# estimar área média dedicada a fazendas em 1992\n",
    "n=500 # amostra\n",
    "\n",
    "n_farms = df_aas['farms92'].count()\n",
    "\n",
    "# divide a area_total pelo n_farms\n",
    "area_media = area_total / n_farms\n",
    "print(f'Estimação da área média em 1992: {area_media:.2f} acres')\n",
    "\n",
    "# estimar erro padrão da área média\n",
    "erro_padrao = calcular_erro_padrao(df_aas['acres92'] / df_aas['farms92'])\n",
    "print(f'Erro padrão da estimativa: {erro_padrao:.2f} acres')\n",
    "\n",
    "# estimar intervalo de confiança da área média\n",
    "limite_inferior, limite_superior = calcular_intervalo_confianca(df_aas['acres92'] / df_aas['farms92'])\n",
    "print(f'Intervalo de confiança: {limite_inferior:.2f} a {limite_superior:.2f} acres')"
   ]
  },
  {
   "attachments": {},
   "cell_type": "markdown",
   "metadata": {},
   "source": [
    "#### (3) A proporção de condados com menos de 250.000 acres em fazendas em 1992,<br>"
   ]
  },
  {
   "cell_type": "code",
   "execution_count": 34,
   "metadata": {},
   "outputs": [
    {
     "name": "stdout",
     "output_type": "stream",
     "text": [
      "Proporção de fazendas com área < 250000 acres: 0.58\n",
      "Erro padrão da estimativa: 0.022\n",
      "Intervalo de confiança: 0.54 a 0.63\n"
     ]
    }
   ],
   "source": [
    "# filtrar county por acres92 < 250000 e pegar proporção\n",
    "df_aas_250mil = df_aas[df_aas['acres92'] < 250000]\n",
    "proporcao = len(df_aas_250mil) / n  # n=500\n",
    "print(f'Proporção de fazendas com área < 250000 acres: {proporcao:.2f}')  # 0.58\n",
    "\n",
    "\n",
    "amostra = df_aas['acres92'] < 250000\n",
    "sucesso = sum(amostra)\n",
    "proporcao_amostral = sucesso / len(amostra)\n",
    "\n",
    "\n",
    "# calcular erro padrao\n",
    "erro_padrao_prop = calcular_erro_padrao(amostra)\n",
    "print(f'Erro padrão da estimativa: {erro_padrao:.3f}')\n",
    "\n",
    "\n",
    "# Intervalo de confiança\n",
    "confianca = 0.95\n",
    "intervalo_confianca_prop = proportion_confint(sucesso, n, alpha=1-confianca, method='wilson')\n",
    "print(f'Intervalo de confiança: {intervalo_confianca_prop[0]:.2f} a {intervalo_confianca_prop[1]:.2f}')"
   ]
  },
  {
   "attachments": {},
   "cell_type": "markdown",
   "metadata": {},
   "source": [
    "#### (4) O total de condados com menos de 250.000 acres em fazendas em 1992.<br>"
   ]
  },
  {
   "cell_type": "code",
   "execution_count": 56,
   "metadata": {},
   "outputs": [
    {
     "name": "stdout",
     "output_type": "stream",
     "text": [
      "Número de condados com menos de 250 mil acres em 1992 na amostra: 292\n"
     ]
    }
   ],
   "source": [
    "# condados com menos de 250 mil acres em 1992\n",
    "df_250mil = df_aas[df_aas['acres92'] < 250000]\n",
    "\n",
    "# contar condados com menos de 250 mil acres em 1992\n",
    "n_250 = len(df_250mil)\n",
    "# printa\n",
    "print(f'Número de condados com menos de 250 mil acres em 1992 na amostra: {n_250}')"
   ]
  },
  {
   "cell_type": "code",
   "execution_count": 55,
   "metadata": {},
   "outputs": [
    {
     "name": "stdout",
     "output_type": "stream",
     "text": [
      "Estimação do número de condados com menos de 250 mil acres em 1992: 1798\n"
     ]
    }
   ],
   "source": [
    "n = len(df_aas)\n",
    "N = len(df)\n",
    "# pegar proporção\n",
    "proporcao = n_250 / n\n",
    "# multiplica proporcao para estimar total\n",
    "total_estimado = proporcao * N\n",
    "print(f'Estimação do número de condados com menos de 250 mil acres em 1992: {total_estimado:.0f}')"
   ]
  },
  {
   "cell_type": "code",
   "execution_count": 57,
   "metadata": {},
   "outputs": [
    {
     "name": "stdout",
     "output_type": "stream",
     "text": [
      "Erro padrão da estimativa: 68\n",
      "Intervalo de confiança: 1663 a 1928\n"
     ]
    }
   ],
   "source": [
    "# # total de county do dataset\n",
    "# N = len(df)\n",
    "\n",
    "# # total de county com menos de 250 mil acres em 1992\n",
    "# county_250acres = proporcao * N \n",
    "# #printa\n",
    "# print(f'Estimativa do total de county com menos de 250 mil acres em 1992: {county_250acres:.0f}')\n",
    "\n",
    "# erro padrão da estimativa\n",
    "erro_padrao = erro_padrao_prop * N\n",
    "print(f'Erro padrão da estimativa: {erro_padrao:.0f}')\n",
    "\n",
    "# intervalo de confiança\n",
    "limite_inferior, limite_superior = intervalo_confianca_prop[0] * N, intervalo_confianca_prop[1] * N\n",
    "print(f'Intervalo de confiança: {limite_inferior:.0f} a {limite_superior:.0f}')"
   ]
  },
  {
   "attachments": {},
   "cell_type": "markdown",
   "metadata": {},
   "source": [
    "## Amostragem aleatória Estratificado por região (region) com alocação proporcional"
   ]
  },
  {
   "attachments": {},
   "cell_type": "markdown",
   "metadata": {},
   "source": [
    "#### (1) A area total dedicada a fazendas em 1992,<br>"
   ]
  },
  {
   "cell_type": "code",
   "execution_count": 59,
   "metadata": {},
   "outputs": [
    {
     "data": {
      "text/plain": [
       "{'NC': 171, 'NE': 36, 'S': 224, 'W': 69}"
      ]
     },
     "execution_count": 59,
     "metadata": {},
     "output_type": "execute_result"
    }
   ],
   "source": [
    "# Quantidade de condados por região:\n",
    "condados_por_regiao = df.groupby(['region']).size().to_dict()\n",
    "\n",
    "# Porcentagem por região\n",
    "porcentagem_por_regiao = {regiao: quant/3078 for regiao, quant in condados_por_regiao.items()}\n",
    "\n",
    "# Tamanho da amostra por região:\n",
    "amostra_por_regiao = {regiao: round(quant*500) for regiao, quant in porcentagem_por_regiao.items()}\n",
    "amostra_por_regiao"
   ]
  },
  {
   "cell_type": "code",
   "execution_count": 60,
   "metadata": {},
   "outputs": [
    {
     "data": {
      "text/html": [
       "<div>\n",
       "<style scoped>\n",
       "    .dataframe tbody tr th:only-of-type {\n",
       "        vertical-align: middle;\n",
       "    }\n",
       "\n",
       "    .dataframe tbody tr th {\n",
       "        vertical-align: top;\n",
       "    }\n",
       "\n",
       "    .dataframe thead th {\n",
       "        text-align: right;\n",
       "    }\n",
       "</style>\n",
       "<table border=\"1\" class=\"dataframe\">\n",
       "  <thead>\n",
       "    <tr style=\"text-align: right;\">\n",
       "      <th></th>\n",
       "      <th>county</th>\n",
       "      <th>state</th>\n",
       "      <th>acres92</th>\n",
       "      <th>acres87</th>\n",
       "      <th>acres82</th>\n",
       "      <th>farms92</th>\n",
       "      <th>farms87</th>\n",
       "      <th>farms82</th>\n",
       "      <th>largef92</th>\n",
       "      <th>largef87</th>\n",
       "      <th>largef82</th>\n",
       "      <th>smallf92</th>\n",
       "      <th>smallf87</th>\n",
       "      <th>smallf82</th>\n",
       "      <th>region</th>\n",
       "    </tr>\n",
       "  </thead>\n",
       "  <tbody>\n",
       "    <tr>\n",
       "      <th>829</th>\n",
       "      <td>OWEN COUNTY</td>\n",
       "      <td>IN</td>\n",
       "      <td>113129.0</td>\n",
       "      <td>115428.0</td>\n",
       "      <td>118596.0</td>\n",
       "      <td>622</td>\n",
       "      <td>665</td>\n",
       "      <td>748</td>\n",
       "      <td>14</td>\n",
       "      <td>14</td>\n",
       "      <td>7</td>\n",
       "      <td>17</td>\n",
       "      <td>24</td>\n",
       "      <td>30</td>\n",
       "      <td>NC</td>\n",
       "    </tr>\n",
       "    <tr>\n",
       "      <th>2972</th>\n",
       "      <td>ONEIDA COUNTY</td>\n",
       "      <td>WI</td>\n",
       "      <td>31777.0</td>\n",
       "      <td>44389.0</td>\n",
       "      <td>41112.0</td>\n",
       "      <td>99</td>\n",
       "      <td>106</td>\n",
       "      <td>117</td>\n",
       "      <td>7</td>\n",
       "      <td>11</td>\n",
       "      <td>12</td>\n",
       "      <td>5</td>\n",
       "      <td>5</td>\n",
       "      <td>5</td>\n",
       "      <td>NC</td>\n",
       "    </tr>\n",
       "    <tr>\n",
       "      <th>2032</th>\n",
       "      <td>CUYAHOGA COUNTY</td>\n",
       "      <td>OH</td>\n",
       "      <td>4060.0</td>\n",
       "      <td>5563.0</td>\n",
       "      <td>8854.0</td>\n",
       "      <td>133</td>\n",
       "      <td>150</td>\n",
       "      <td>193</td>\n",
       "      <td>0</td>\n",
       "      <td>0</td>\n",
       "      <td>0</td>\n",
       "      <td>68</td>\n",
       "      <td>71</td>\n",
       "      <td>81</td>\n",
       "      <td>NC</td>\n",
       "    </tr>\n",
       "    <tr>\n",
       "      <th>2952</th>\n",
       "      <td>GREEN LAKE COUNTY</td>\n",
       "      <td>WI</td>\n",
       "      <td>163145.0</td>\n",
       "      <td>161827.0</td>\n",
       "      <td>164188.0</td>\n",
       "      <td>705</td>\n",
       "      <td>711</td>\n",
       "      <td>705</td>\n",
       "      <td>11</td>\n",
       "      <td>9</td>\n",
       "      <td>9</td>\n",
       "      <td>28</td>\n",
       "      <td>34</td>\n",
       "      <td>17</td>\n",
       "      <td>NC</td>\n",
       "    </tr>\n",
       "    <tr>\n",
       "      <th>613</th>\n",
       "      <td>VAN BUREN COUNTY</td>\n",
       "      <td>IA</td>\n",
       "      <td>241422.0</td>\n",
       "      <td>244939.0</td>\n",
       "      <td>270672.0</td>\n",
       "      <td>752</td>\n",
       "      <td>783</td>\n",
       "      <td>883</td>\n",
       "      <td>35</td>\n",
       "      <td>33</td>\n",
       "      <td>33</td>\n",
       "      <td>35</td>\n",
       "      <td>37</td>\n",
       "      <td>46</td>\n",
       "      <td>NC</td>\n",
       "    </tr>\n",
       "    <tr>\n",
       "      <th>...</th>\n",
       "      <td>...</td>\n",
       "      <td>...</td>\n",
       "      <td>...</td>\n",
       "      <td>...</td>\n",
       "      <td>...</td>\n",
       "      <td>...</td>\n",
       "      <td>...</td>\n",
       "      <td>...</td>\n",
       "      <td>...</td>\n",
       "      <td>...</td>\n",
       "      <td>...</td>\n",
       "      <td>...</td>\n",
       "      <td>...</td>\n",
       "      <td>...</td>\n",
       "      <td>...</td>\n",
       "    </tr>\n",
       "    <tr>\n",
       "      <th>651</th>\n",
       "      <td>KOOTENAI COUNTY</td>\n",
       "      <td>ID</td>\n",
       "      <td>131281.0</td>\n",
       "      <td>170739.0</td>\n",
       "      <td>199576.0</td>\n",
       "      <td>541</td>\n",
       "      <td>611</td>\n",
       "      <td>615</td>\n",
       "      <td>29</td>\n",
       "      <td>49</td>\n",
       "      <td>45</td>\n",
       "      <td>69</td>\n",
       "      <td>69</td>\n",
       "      <td>71</td>\n",
       "      <td>W</td>\n",
       "    </tr>\n",
       "    <tr>\n",
       "      <th>2898</th>\n",
       "      <td>DOUGLAS COUNTY</td>\n",
       "      <td>WA</td>\n",
       "      <td>918033.0</td>\n",
       "      <td>987885.0</td>\n",
       "      <td>970528.0</td>\n",
       "      <td>888</td>\n",
       "      <td>948</td>\n",
       "      <td>937</td>\n",
       "      <td>202</td>\n",
       "      <td>236</td>\n",
       "      <td>244</td>\n",
       "      <td>277</td>\n",
       "      <td>263</td>\n",
       "      <td>261</td>\n",
       "      <td>W</td>\n",
       "    </tr>\n",
       "    <tr>\n",
       "      <th>1924</th>\n",
       "      <td>RIO ARRIBA COUNTY</td>\n",
       "      <td>NM</td>\n",
       "      <td>1552865.0</td>\n",
       "      <td>1490672.0</td>\n",
       "      <td>1490281.0</td>\n",
       "      <td>964</td>\n",
       "      <td>936</td>\n",
       "      <td>825</td>\n",
       "      <td>140</td>\n",
       "      <td>125</td>\n",
       "      <td>126</td>\n",
       "      <td>226</td>\n",
       "      <td>205</td>\n",
       "      <td>155</td>\n",
       "      <td>W</td>\n",
       "    </tr>\n",
       "    <tr>\n",
       "      <th>185</th>\n",
       "      <td>MENDOCINO COUNTY</td>\n",
       "      <td>CA</td>\n",
       "      <td>725118.0</td>\n",
       "      <td>777264.0</td>\n",
       "      <td>782999.0</td>\n",
       "      <td>1088</td>\n",
       "      <td>1067</td>\n",
       "      <td>1084</td>\n",
       "      <td>118</td>\n",
       "      <td>128</td>\n",
       "      <td>132</td>\n",
       "      <td>161</td>\n",
       "      <td>132</td>\n",
       "      <td>155</td>\n",
       "      <td>W</td>\n",
       "    </tr>\n",
       "    <tr>\n",
       "      <th>652</th>\n",
       "      <td>LATAH COUNTY</td>\n",
       "      <td>ID</td>\n",
       "      <td>347293.0</td>\n",
       "      <td>352777.0</td>\n",
       "      <td>355137.0</td>\n",
       "      <td>610</td>\n",
       "      <td>644</td>\n",
       "      <td>662</td>\n",
       "      <td>115</td>\n",
       "      <td>119</td>\n",
       "      <td>111</td>\n",
       "      <td>28</td>\n",
       "      <td>39</td>\n",
       "      <td>39</td>\n",
       "      <td>W</td>\n",
       "    </tr>\n",
       "  </tbody>\n",
       "</table>\n",
       "<p>500 rows × 15 columns</p>\n",
       "</div>"
      ],
      "text/plain": [
       "                 county state    acres92    acres87    acres82  farms92  \\\n",
       "829         OWEN COUNTY    IN   113129.0   115428.0   118596.0      622   \n",
       "2972      ONEIDA COUNTY    WI    31777.0    44389.0    41112.0       99   \n",
       "2032    CUYAHOGA COUNTY    OH     4060.0     5563.0     8854.0      133   \n",
       "2952  GREEN LAKE COUNTY    WI   163145.0   161827.0   164188.0      705   \n",
       "613    VAN BUREN COUNTY    IA   241422.0   244939.0   270672.0      752   \n",
       "...                 ...   ...        ...        ...        ...      ...   \n",
       "651     KOOTENAI COUNTY    ID   131281.0   170739.0   199576.0      541   \n",
       "2898     DOUGLAS COUNTY    WA   918033.0   987885.0   970528.0      888   \n",
       "1924  RIO ARRIBA COUNTY    NM  1552865.0  1490672.0  1490281.0      964   \n",
       "185    MENDOCINO COUNTY    CA   725118.0   777264.0   782999.0     1088   \n",
       "652        LATAH COUNTY    ID   347293.0   352777.0   355137.0      610   \n",
       "\n",
       "      farms87  farms82  largef92  largef87  largef82  smallf92  smallf87  \\\n",
       "829       665      748        14        14         7        17        24   \n",
       "2972      106      117         7        11        12         5         5   \n",
       "2032      150      193         0         0         0        68        71   \n",
       "2952      711      705        11         9         9        28        34   \n",
       "613       783      883        35        33        33        35        37   \n",
       "...       ...      ...       ...       ...       ...       ...       ...   \n",
       "651       611      615        29        49        45        69        69   \n",
       "2898      948      937       202       236       244       277       263   \n",
       "1924      936      825       140       125       126       226       205   \n",
       "185      1067     1084       118       128       132       161       132   \n",
       "652       644      662       115       119       111        28        39   \n",
       "\n",
       "      smallf82 region  \n",
       "829         30     NC  \n",
       "2972         5     NC  \n",
       "2032        81     NC  \n",
       "2952        17     NC  \n",
       "613         46     NC  \n",
       "...        ...    ...  \n",
       "651         71      W  \n",
       "2898       261      W  \n",
       "1924       155      W  \n",
       "185        155      W  \n",
       "652         39      W  \n",
       "\n",
       "[500 rows x 15 columns]"
      ]
     },
     "execution_count": 60,
     "metadata": {},
     "output_type": "execute_result"
    }
   ],
   "source": [
    "# Usando AASs para obter uma amostra proporcional em cada estrato (região)\n",
    "amostra = pd.DataFrame()\n",
    "for regiao, quantidade in amostra_por_regiao.items():\n",
    "    amostra_regiao = df[df['region'] == regiao]\n",
    "    amostra = pd.concat([amostra, amostra_regiao.sample(quantidade, random_state=SEED)])\n",
    "amostra"
   ]
  },
  {
   "cell_type": "code",
   "execution_count": 61,
   "metadata": {},
   "outputs": [
    {
     "name": "stdout",
     "output_type": "stream",
     "text": [
      "Área total estimada = 964194037.98\n"
     ]
    }
   ],
   "source": [
    "# Calculando média de cada estrato\n",
    "medias_estratos = amostra.groupby(['region'])['acres92'].mean().to_dict()\n",
    "\n",
    "# Estimando a área total:\n",
    "area_total_estimada = sum([media*condados_por_regiao.get(regiao) for regiao, media in medias_estratos.items()])\n",
    "\n",
    "# Estimando a média populacional\n",
    "media_pop_estimada = area_total_estimada/3078\n",
    "\n",
    "print(f'Área total estimada = {area_total_estimada:.2f}')"
   ]
  },
  {
   "attachments": {},
   "cell_type": "markdown",
   "metadata": {},
   "source": [
    "#### (2) A area média dedicada a fazendas em 1992,<br>"
   ]
  },
  {
   "cell_type": "markdown",
   "metadata": {},
   "source": [
    "Sabemos que para AASs, a média amostral $$\\bar{y} = \\frac{1}{n}\\sum_{i \\in s}^{n}Y_i$$ é um estimador não viesado para a média do estrato.\\\n",
    "Além disso, o estimador $$T_{es} = \\sum_{h=1}^{H}N_h\\hat{\\mu}_h$$ é não viesado para o total populacional $\\tau$"
   ]
  },
  {
   "cell_type": "code",
   "execution_count": 62,
   "metadata": {},
   "outputs": [
    {
     "name": "stdout",
     "output_type": "stream",
     "text": [
      "Área média estimada = 313253.42\n"
     ]
    }
   ],
   "source": [
    "print(f'Área média estimada = {media_pop_estimada:.2f}')"
   ]
  },
  {
   "attachments": {},
   "cell_type": "markdown",
   "metadata": {},
   "source": [
    "#### (3) A proporção de condados com menos de 250.000 acres em fazendas em 1992,<br>"
   ]
  },
  {
   "cell_type": "markdown",
   "metadata": {},
   "source": [
    "Dada uma amostra $s_h$ de tamanho $n_h$ selecionada segundo a AASs no estrato h, pode-se então definir para P o estimador\n",
    "$$\\hat{P}_{es} = \\sum_{h=1}^H W_h\\frac{T_h}{n_h}$$\n",
    "Onde $T_h$ é o numero de elementos na amostra que possuem a caracteristica no estrato h"
   ]
  },
  {
   "cell_type": "code",
   "execution_count": 64,
   "metadata": {},
   "outputs": [
    {
     "data": {
      "text/plain": [
       "{'NC': 74, 'NE': 36, 'S': 170, 'W': 21}"
      ]
     },
     "execution_count": 64,
     "metadata": {},
     "output_type": "execute_result"
    }
   ],
   "source": [
    "# Quantidade de condados com menos de 250.000 acres de fazendo em 92 para cada estrato:\n",
    "menor_250 = {}\n",
    "for regiao in amostra['region'].unique():\n",
    "    qnt = amostra[(amostra['region'] == regiao) & (amostra['acres92'] < 250000)].shape[0]\n",
    "    menor_250[regiao] = qnt\n",
    "menor_250"
   ]
  },
  {
   "cell_type": "code",
   "execution_count": 65,
   "metadata": {},
   "outputs": [
    {
     "name": "stdout",
     "output_type": "stream",
     "text": [
      "Proporção de condados com menos de 250.000 acres em fazendas: 60.21%\n"
     ]
    }
   ],
   "source": [
    "Pes = sum([porcentagem_por_regiao.get(regiao)*menor_250.get(regiao)/amostra_por_regiao.get(regiao) for regiao in amostra['region'].unique()])\n",
    "print(f'Proporção de condados com menos de 250.000 acres em fazendas: {Pes:.2%}')"
   ]
  },
  {
   "attachments": {},
   "cell_type": "markdown",
   "metadata": {},
   "source": [
    "#### (4) O total de condados com menos de 250.000 acres em fazendas em 1992.<br>"
   ]
  },
  {
   "cell_type": "code",
   "execution_count": 66,
   "metadata": {},
   "outputs": [
    {
     "name": "stdout",
     "output_type": "stream",
     "text": [
      "Total de condados com menos de 250.000 acres em fazendas: 1853\n"
     ]
    }
   ],
   "source": [
    "print(f'Total de condados com menos de 250.000 acres em fazendas: {round(Pes*3078)}')"
   ]
  },
  {
   "attachments": {},
   "cell_type": "markdown",
   "metadata": {},
   "source": [
    "## Amostragem Aleatória por conglomerados usando o estado (state) como a variável de cluster,"
   ]
  },
  {
   "cell_type": "code",
   "execution_count": null,
   "metadata": {},
   "outputs": [],
   "source": []
  }
 ],
 "metadata": {
  "kernelspec": {
   "display_name": "Python 3.10.6 64-bit",
   "language": "python",
   "name": "python3"
  },
  "language_info": {
   "codemirror_mode": {
    "name": "ipython",
    "version": 3
   },
   "file_extension": ".py",
   "mimetype": "text/x-python",
   "name": "python",
   "nbconvert_exporter": "python",
   "pygments_lexer": "ipython3",
   "version": "3.10.5"
  },
  "orig_nbformat": 4,
  "vscode": {
   "interpreter": {
    "hash": "916dbcbb3f70747c44a77c7bcd40155683ae19c65e1c03b4aa3499c5328201f1"
   }
  }
 },
 "nbformat": 4,
 "nbformat_minor": 2
}
